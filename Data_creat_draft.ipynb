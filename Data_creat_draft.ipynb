{
 "cells": [
  {
   "cell_type": "markdown",
   "metadata": {
    "collapsed": true
   },
   "source": [
    "# This draft is use for Monte Carlo Simulations\n",
    "\n",
    "## Return Function\n",
    "our simulate function is given by 3-factor model for excess returns $r_{t+1}$,for t = 1,2,....,180;i = 1,2,....,200:\n",
    "\n",
    "\\begin{equation}\n",
    "r_{t+1} = g^*(z_{i,t}) + e_{i,t+1}\n",
    "\\end{equation}\n",
    "where return is formed by Characteristics Function and non-independent error terms \n",
    "\n",
    "## Characteristics Function\n",
    "\\begin{equation}\n",
    "z_{i,t} = (1,x_{t})'\\otimes c_{i,t}\n",
    "\\end{equation}\n",
    "### where $x_{t}$:\n",
    "\n",
    "\\begin{equation}\n",
    "x_{t} = \\rho*x_{t-1} + u_{t}\n",
    "\\end{equation}\n",
    "**Distribution is defined as follows **：\n",
    "\n",
    "* $x_{0} = 0$\n",
    "\n",
    "* $\\rho = 0.95$\n",
    "\n",
    "* $u_{t}\\sim \\mathcal{N}(0,1-\\rho^2)$\n",
    "\n",
    "### where $c_{i,t}$ is define by Equation (4)&(5) :\n",
    "\n",
    "\\begin{equation}\n",
    "c_{ij,t} = \\frac{2}{n+1}rank(\\overline{c}_{ij,t})-1\n",
    "\\end{equation}\n",
    "\n",
    "\\begin{equation}\n",
    "\\overline{c}_{ij,t} = \\rho_{j}\\overline{c}_{ij,t-1} + \\epsilon_{ij,t}\n",
    "\\end{equation}\n",
    "\n",
    "**Distribution is defined as follows**：\n",
    "* $c_{0} = 0$\n",
    "* $\\rho_{j} \\sim \\mathcal{U}(0.9,1)$\n",
    "* $\\epsilon_{ij,t} \\sim \\mathcal{N}(0,1)$\n",
    "\n",
    "\n",
    "## non-independent error terms\n",
    "\\begin{equation}\n",
    "e_{i,t+1} = \\beta_{i,t}v_{i,t+1} + \\varepsilon_{i,t+1}\n",
    "\\end{equation}\n",
    "\n",
    "### where $\\beta_{i,t}$ is given by：\n",
    "\n",
    "\n",
    "\\begin{equation}\n",
    "\\beta_{i,t} = (c_{i1,t},c_{i2,t},c_{i3,t})\n",
    "\\end{equation}\n",
    "\n",
    "**Distribution is defined as follows**：\n",
    "* $v_{t+1} \\sim \\mathcal{N}(0,0.05^2 \\times I_{3})$\n",
    "* $\\varepsilon_{i,t+1} \\sim t_{5}(0,0.05^2)$\n",
    "\n",
    "## Distribution for Simulation\n",
    "\n",
    "* $\\mathcal{N}(0,0.05^2)$ stand for normal distribution with 0 mean & 0.05 Standard deviation\n",
    "* $\\mathcal{U}(0.9,1)$ stand for uniform distribution between (0.9,1)\n",
    "* $t_{5}(0,0.05^2)$ stand for a Student’s t distribution with 5 degrees of freedom 0 mean & 0.05 Standard deviation\n",
    "\n",
    "\n"
   ]
  },
  {
   "cell_type": "markdown",
   "metadata": {},
   "source": [
    "# Code for Check Distribution \n",
    "## Normal Distribution\n",
    "\n",
    "The probability density for the Gaussian distribution is\n",
    "\n",
    "$p(x) = \\frac{1}{\\sqrt{ 2 \\pi \\sigma^2 }} e^{ - \\frac{ (x - \\mu)^2 } {2 \\sigma^2} }$\n",
    "```\n",
    "scipy.stats.norm.rvs(loc=0, scale=1, size=1, random_state=None)\n",
    "\n",
    "loc : float or array_like of floats\n",
    "Mean (“centre”) of the distribution.\n",
    "\n",
    "scale : float or array_like of floats\n",
    "Standard deviation (spread or “width”) of the distribution.\n",
    "\n",
    "size : int or tuple of ints, optional\n",
    "Output shape. If the given shape is, e.g., (m, n, k), then m * n * k samples are drawn. If size is None (default), a single value is returned if loc and scale are both scalars. Otherwise, np.broadcast(loc, scale).size samples are drawn.\n",
    "\n",
    "```"
   ]
  },
  {
   "cell_type": "code",
   "execution_count": 1,
   "metadata": {
    "ExecuteTime": {
     "end_time": "2018-09-23T02:29:01.746028Z",
     "start_time": "2018-09-23T02:28:59.755650Z"
    }
   },
   "outputs": [],
   "source": [
    "from scipy.stats import norm\n",
    "\n",
    "data_mean = 0\n",
    "data_std = 0.05\n",
    "data_size = 10000\n",
    "random_seed = 123\n",
    "\n",
    "data_norm = norm.rvs(loc=data_mean, scale=data_std, size=data_size, random_state=random_seed)"
   ]
  },
  {
   "cell_type": "code",
   "execution_count": 2,
   "metadata": {
    "ExecuteTime": {
     "end_time": "2018-09-23T02:29:02.845247Z",
     "start_time": "2018-09-23T02:29:01.747031Z"
    }
   },
   "outputs": [],
   "source": [
    "import matplotlib.pyplot as plt\n",
    "%matplotlib inline\n",
    "def plot_hist(data,num=30):\n",
    "    fig, ax = plt.subplots(1, 1)\n",
    "    plt.hist(data,num)\n",
    "    plt.grid(True,ls='--')\n",
    "    ax = plt.gca()\n",
    "    ax.spines['top'].set_visible(False) #去掉上边框\n",
    "    ax.spines['right'].set_visible(False) #去掉右边框\n",
    "    plt.show()"
   ]
  },
  {
   "cell_type": "code",
   "execution_count": 3,
   "metadata": {
    "ExecuteTime": {
     "end_time": "2018-09-23T02:29:03.030718Z",
     "start_time": "2018-09-23T02:29:02.847222Z"
    }
   },
   "outputs": [
    {
     "data": {
      "image/png": "[encoded data removed]",
      "text/plain": [
       "<Figure size 432x288 with 1 Axes>"
      ]
     },
     "metadata": {},
     "output_type": "display_data"
    }
   ],
   "source": [
    "plot_hist(data_norm)"
   ]
  },
  {
   "cell_type": "markdown",
   "metadata": {},
   "source": [
    "## Uniform Distribution\n",
    "The probability density function of the uniform distribution is\n",
    "\n",
    "$p(x) = \\frac{1}{b - a}$\n",
    "```\n",
    "scipy.stats.uniform.rvs(loc=0, scale=1, size=1, random_state=None)\n",
    "\n",
    "This distribution is constant between loc and loc + scale\n",
    "```"
   ]
  },
  {
   "cell_type": "code",
   "execution_count": 4,
   "metadata": {
    "ExecuteTime": {
     "end_time": "2018-09-23T02:29:03.037736Z",
     "start_time": "2018-09-23T02:29:03.032723Z"
    }
   },
   "outputs": [],
   "source": [
    "from scipy.stats import uniform\n",
    "\n",
    "data_low = 0.9\n",
    "data_scale = 0.1\n",
    "data_size = 10000\n",
    "random_seed = 123\n",
    "\n",
    "data_uniform = uniform.rvs(loc=data_low, scale=data_scale, size=data_size, random_state=random_seed)"
   ]
  },
  {
   "cell_type": "code",
   "execution_count": 5,
   "metadata": {
    "ExecuteTime": {
     "end_time": "2018-09-23T02:29:03.188144Z",
     "start_time": "2018-09-23T02:29:03.040744Z"
    }
   },
   "outputs": [
    {
     "data": {
      "image/png": "[encoded data removed]",
      "text/plain": [
       "<Figure size 432x288 with 1 Axes>"
      ]
     },
     "metadata": {},
     "output_type": "display_data"
    }
   ],
   "source": [
    "plot_hist(data_uniform)"
   ]
  },
  {
   "cell_type": "markdown",
   "metadata": {},
   "source": [
    "## Student’s t distribution Distribution\n",
    "The probability density function of the Student’s t distribution is\n",
    "                               \n",
    "\n",
    "$P(x, df) = \\frac{\\Gamma(\\frac{df+1}{2})}{\\sqrt{\\pi df} \\Gamma(\\frac{df}{2})}\\Bigl( 1+\\frac{x^2}{df} \\Bigr)^{-(df+1)/2}$\n",
    "\n",
    "```\n",
    "scipy.stats.t.rvs(loc=0, scale=1, size=1, random_state=None)\n",
    "\n",
    "rvs(df, loc=0, scale=1, size=1, random_state=None)\n",
    "df is freedom\n",
    "```"
   ]
  },
  {
   "cell_type": "code",
   "execution_count": 6,
   "metadata": {
    "ExecuteTime": {
     "end_time": "2018-09-23T02:29:03.197167Z",
     "start_time": "2018-09-23T02:29:03.190149Z"
    }
   },
   "outputs": [],
   "source": [
    "from scipy.stats import t\n",
    "data_fr = 5\n",
    "data_mean = 0\n",
    "data_scale = 0.05\n",
    "data_size = 10000\n",
    "random_seed = 123\n",
    "\n",
    "data_t = t.rvs(df=data_fr, loc=data_mean, scale=data_scale, size=data_size, random_state=random_seed)"
   ]
  },
  {
   "cell_type": "code",
   "execution_count": 7,
   "metadata": {
    "ExecuteTime": {
     "end_time": "2018-09-23T02:29:03.339552Z",
     "start_time": "2018-09-23T02:29:03.199173Z"
    }
   },
   "outputs": [
    {
     "data": {
      "image/png": "[encoded data removed]",
      "text/plain": [
       "<Figure size 432x288 with 1 Axes>"
      ]
     },
     "metadata": {},
     "output_type": "display_data"
    }
   ],
   "source": [
    "plot_hist(data_t)"
   ]
  },
  {
   "cell_type": "markdown",
   "metadata": {},
   "source": [
    "# Code for MC Simulation Data\n",
    "## What is Our final data looks like?\n"
   ]
  },
  {
   "cell_type": "code",
   "execution_count": 8,
   "metadata": {
    "ExecuteTime": {
     "end_time": "2018-09-23T02:29:05.308075Z",
     "start_time": "2018-09-23T02:29:03.341559Z"
    }
   },
   "outputs": [],
   "source": [
    "import pandas as pd\n",
    "import numpy as np\n",
    "import pickle\n",
    "pd.set_option('display.max_columns', 50)\n",
    "pd.set_option('display.max_rows', 100)\n",
    "pd.set_option('display.float_format', lambda x: '%.4f' % x)\n",
    "Path = 'D:\\\\APViaML'\n",
    "from scipy.stats import norm\n",
    "from scipy.stats import t\n",
    "\n",
    "# 0 set size & df\n",
    "T_num = 180\n",
    "id_num = 200\n",
    "Xt_list = ['x1']\n",
    "pc1 = 50\n",
    "pc2 = 100\n",
    "temp = list(range(1, pc1 + 1))\n",
    "ct_list = []\n",
    "for x in temp:\n",
    "    ct_list.append('c' + str(x))\n",
    "other_columns_name = ['gz1', 'gz2', 'e', 'ret']\n",
    "columns_name = Xt_list + ct_list + other_columns_name\n",
    "\n",
    "final_data = pd.DataFrame(columns=columns_name)"
   ]
  },
  {
   "cell_type": "markdown",
   "metadata": {},
   "source": [
    "## simulate x1\n",
    "### where $x_{t}$:\n",
    "\n",
    "\\begin{equation}\n",
    "x_{t} = \\rho*x_{t-1} + u_{t}\n",
    "\\end{equation}\n",
    "**Distribution is defined as follows** ：\n",
    "\n",
    "* $x_{0} = 0$\n",
    "\n",
    "* $\\rho = 0.95$\n",
    "\n",
    "* $u_{t}\\sim \\mathcal{N}(0,1-\\rho^2)$\n",
    "### define x1,x1_0"
   ]
  },
  {
   "cell_type": "code",
   "execution_count": 9,
   "metadata": {
    "ExecuteTime": {
     "end_time": "2018-09-23T02:29:05.323682Z",
     "start_time": "2018-09-23T02:29:05.308075Z"
    }
   },
   "outputs": [],
   "source": [
    "x1 = np.zeros(shape=T_num * id_num)\n",
    "x1_0 = np.zeros(shape=id_num)"
   ]
  },
  {
   "cell_type": "markdown",
   "metadata": {},
   "source": [
    "### simulate $u_{1t}$"
   ]
  },
  {
   "cell_type": "code",
   "execution_count": 10,
   "metadata": {
    "ExecuteTime": {
     "end_time": "2018-09-23T02:29:05.339306Z",
     "start_time": "2018-09-23T02:29:05.323682Z"
    }
   },
   "outputs": [],
   "source": [
    "from scipy.stats import norm\n",
    "import math \n",
    "p = 0.95\n",
    "data_mean = 0\n",
    "data_std = math.sqrt(1 - 0.95 * 0.95)\n",
    "data_size = T_num\n",
    "random_seed1 = 12\n",
    "\n",
    "u1_t_array = norm.rvs(loc=data_mean, scale=data_std, size=data_size, random_state=random_seed1)"
   ]
  },
  {
   "cell_type": "markdown",
   "metadata": {},
   "source": [
    "### simulate data"
   ]
  },
  {
   "cell_type": "code",
   "execution_count": 11,
   "metadata": {
    "ExecuteTime": {
     "end_time": "2018-09-23T02:29:05.354961Z",
     "start_time": "2018-09-23T02:29:05.339306Z"
    }
   },
   "outputs": [],
   "source": [
    "for i in range(T_num):\n",
    "    if i == 0:\n",
    "        temp_x_1 = x1_0 * p + u1_t_array[i]\n",
    "        x1[200 * i:200 * (i + 1)] = temp_x_1\n",
    "    else:\n",
    "        temp_x_1 = temp_x_1 * p + u1_t_array[i]\n",
    "        x1[200 * i:200 * (i + 1)] = temp_x_1"
   ]
  },
  {
   "cell_type": "markdown",
   "metadata": {},
   "source": [
    "### put x into final_data_100"
   ]
  },
  {
   "cell_type": "code",
   "execution_count": 12,
   "metadata": {
    "ExecuteTime": {
     "end_time": "2018-09-23T02:29:05.495581Z",
     "start_time": "2018-09-23T02:29:05.354961Z"
    }
   },
   "outputs": [],
   "source": [
    "final_data_100 = final_data\n",
    "final_data_100['x1'] = x1"
   ]
  },
  {
   "cell_type": "markdown",
   "metadata": {},
   "source": [
    "## simulate Cij,t\n",
    "###  $\\rho_{j}$\n",
    "* $\\rho_{j} \\sim \\mathcal{U}(0.9,1)$"
   ]
  },
  {
   "cell_type": "code",
   "execution_count": 13,
   "metadata": {
    "ExecuteTime": {
     "end_time": "2018-09-23T02:29:05.511207Z",
     "start_time": "2018-09-23T02:29:05.495581Z"
    }
   },
   "outputs": [],
   "source": [
    "\n",
    "from scipy.stats import uniform\n",
    "\n",
    "data_low = 0.9\n",
    "data_scale = 0.1\n",
    "data_size = pc1\n",
    "random_seed = 123\n",
    "\n",
    "pj = uniform.rvs(loc=data_low, scale=data_scale, size=data_size, random_state=random_seed)"
   ]
  },
  {
   "cell_type": "markdown",
   "metadata": {},
   "source": [
    "###  $\\epsilon_{ij,t}$\n",
    "\n",
    "* $\\epsilon_{ij,t} \\sim \\mathcal{N}(0,1)$"
   ]
  },
  {
   "cell_type": "code",
   "execution_count": 14,
   "metadata": {
    "ExecuteTime": {
     "end_time": "2018-09-23T02:29:05.591970Z",
     "start_time": "2018-09-23T02:29:05.511207Z"
    }
   },
   "outputs": [],
   "source": [
    "data_mean = 0\n",
    "data_std = 1\n",
    "data_size = (id_num * T_num, pc1)\n",
    "random_seed2 = 123\n",
    "epsilon_ij_t = norm.rvs(loc=data_mean, scale=data_std, size=data_size, random_state=random_seed2)"
   ]
  },
  {
   "cell_type": "code",
   "execution_count": 15,
   "metadata": {
    "ExecuteTime": {
     "end_time": "2018-09-23T02:29:05.649124Z",
     "start_time": "2018-09-23T02:29:05.593975Z"
    },
    "code_folding": []
   },
   "outputs": [],
   "source": [
    "c = np.zeros(shape=(id_num * T_num, pc1))\n",
    "c_0 = np.zeros(shape=(id_num, pc1))\n",
    "\n",
    "for i in range(T_num):\n",
    "    if i == 0:\n",
    "        temp_x_1 = c_0\n",
    "        for j in range(pc1):\n",
    "            temp_x_1[:, j] = temp_x_1[:, j] * pj[j]\n",
    "        temp_x_1 = temp_x_1 + epsilon_ij_t[200 * i:200 * (i + 1)]\n",
    "        c[200 * i:200 * (i + 1)] = temp_x_1\n",
    "    else:\n",
    "        for j in range(pc1):\n",
    "            temp_x_1[:, j] = temp_x_1[:, j] * pj[j]\n",
    "        temp_x_1 = temp_x_1 + epsilon_ij_t[200 * i:200 * (i + 1)]\n",
    "        c[200 * i:200 * (i + 1)] = temp_x_1"
   ]
  },
  {
   "cell_type": "markdown",
   "metadata": {},
   "source": [
    "### define rank normalize"
   ]
  },
  {
   "cell_type": "code",
   "execution_count": 16,
   "metadata": {
    "ExecuteTime": {
     "end_time": "2018-09-23T02:29:10.434387Z",
     "start_time": "2018-09-23T02:29:05.651130Z"
    }
   },
   "outputs": [],
   "source": [
    "c_new = c.copy()\n",
    "for i in range(T_num):\n",
    "    for j in range(pc1):\n",
    "        temp_series = pd.Series(c_new[200 * i:200 * (i + 1), j])\n",
    "        temp_series = temp_series.rank()\n",
    "        temp_series = 2 * temp_series / (len(temp_series) + 1) - 1\n",
    "        c_new[200 * i:200 * (i + 1), j] = temp_series"
   ]
  },
  {
   "cell_type": "markdown",
   "metadata": {},
   "source": [
    "### put c into final_data_100"
   ]
  },
  {
   "cell_type": "code",
   "execution_count": 17,
   "metadata": {
    "ExecuteTime": {
     "end_time": "2018-09-23T02:29:11.357706Z",
     "start_time": "2018-09-23T02:29:10.438398Z"
    }
   },
   "outputs": [],
   "source": [
    "final_data_100.loc[:,ct_list] = c_new"
   ]
  },
  {
   "cell_type": "markdown",
   "metadata": {},
   "source": [
    "## gz"
   ]
  },
  {
   "cell_type": "code",
   "execution_count": 18,
   "metadata": {
    "ExecuteTime": {
     "end_time": "2018-09-23T02:29:11.631447Z",
     "start_time": "2018-09-23T02:29:11.358709Z"
    }
   },
   "outputs": [],
   "source": [
    "\n",
    "seita1 = np.array([[0.02, 0.02, 0.02]]).T\n",
    "temp = final_data_100['x1'] * final_data_100['c3']\n",
    "c13 = c_new[:, :3].copy()\n",
    "c13[:, 2] = np.array(temp)\n",
    "\n",
    "gz1 = np.dot(c13, seita1)\n",
    "\n",
    "temp_c1 = final_data_100['c1'] ** 2\n",
    "temp_c2 = final_data_100['c1'] * final_data_100['c2']\n",
    "temp_c3 = np.sign(final_data_100['x1'] * final_data_100['c3'])\n",
    "\n",
    "c23 = c_new[:, :3].copy()\n",
    "c23[:, 0] = np.array(temp_c1)\n",
    "c23[:, 1] = np.array(temp_c2)\n",
    "c23[:, 2] = np.array(temp_c3)\n",
    "\n",
    "seita2 = np.array([[0.04, 0.03, 0.012]]).T\n",
    "\n",
    "gz2 = np.dot(c23, seita2)\n",
    "\n",
    "final_data_100['gz1'] = gz1\n",
    "final_data_100['gz2'] = gz2"
   ]
  },
  {
   "cell_type": "markdown",
   "metadata": {},
   "source": [
    "## e"
   ]
  },
  {
   "cell_type": "code",
   "execution_count": 19,
   "metadata": {
    "ExecuteTime": {
     "end_time": "2018-09-23T02:29:11.649496Z",
     "start_time": "2018-09-23T02:29:11.633455Z"
    }
   },
   "outputs": [],
   "source": [
    "data_mean = 0\n",
    "data_std = 0.05\n",
    "data_size = T_num\n",
    "random_seed1 = 12\n",
    "random_seed2 = 121\n",
    "random_seed3 = 123\n",
    "\n",
    "vt1_array = norm.rvs(loc=data_mean, scale=data_std, size=data_size, random_state=random_seed1)\n",
    "vt2_array = norm.rvs(loc=data_mean, scale=data_std, size=data_size, random_state=random_seed2)\n",
    "vt3_array = norm.rvs(loc=data_mean, scale=data_std, size=data_size, random_state=random_seed3)\n",
    "temp_array = np.zeros(shape=[3, T_num])\n",
    "\n",
    "temp_array[0, :] = vt1_array\n",
    "temp_array[1, :] = vt2_array\n",
    "temp_array[2, :] = vt3_array\n",
    "\n",
    "e1 = c_new[:, :3].copy()\n",
    "for i in range(T_num):\n",
    "    for j in range(3):\n",
    "        e1[200 * i:200 * (i + 1), j] = e1[200 * i:200 * (i + 1), j] * temp_array[j, i]\n",
    "\n",
    "\n",
    "\n",
    "\n",
    "data_fr = 5\n",
    "data_mean = 0\n",
    "data_scale = 0.05\n",
    "data_size = id_num*T_num\n",
    "random_seed = 123\n",
    "\n",
    "epsilon2_it = t.rvs(df=data_fr, loc=data_mean, scale=data_scale, size=data_size, random_state=random_seed)\n",
    "\n",
    "e = e1[:, 0] + e1[:, 1] + e1[:, 2] + epsilon2_it\n",
    "\n",
    "final_data_100['e'] = e"
   ]
  },
  {
   "cell_type": "markdown",
   "metadata": {},
   "source": [
    "## ret"
   ]
  },
  {
   "cell_type": "code",
   "execution_count": 20,
   "metadata": {
    "ExecuteTime": {
     "end_time": "2018-09-23T02:29:11.661527Z",
     "start_time": "2018-09-23T02:29:11.650498Z"
    }
   },
   "outputs": [],
   "source": [
    "final_data_100['ret'] = final_data_100['e'] + final_data_100['gz1']\n",
    "final_data_100['ret1'] = final_data_100['e'] + final_data_100['gz2']"
   ]
  },
  {
   "cell_type": "code",
   "execution_count": 21,
   "metadata": {
    "ExecuteTime": {
     "end_time": "2018-09-23T02:29:11.766813Z",
     "start_time": "2018-09-23T02:29:11.663533Z"
    }
   },
   "outputs": [],
   "source": [
    "\n",
    "final_data_100_x1 = np.zeros(shape=(id_num*T_num,100))\n",
    "final_data_100_x1[:,:50] = final_data_100.loc[:,ct_list]\n",
    "\n",
    "final_data_100.loc[:,'c1'] = final_data_100.loc[:,'c1']*final_data_100.loc[:,'x1']\n",
    "\n",
    "for i in range(50):\n",
    "    final_data_100.iloc[:,i+1] = final_data_100.iloc[:,i+1]*final_data_100.loc[:,'x1']\n",
    "\n",
    "final_data_100_x1[:,50:100] = final_data_100.loc[:,ct_list]\n",
    "\n",
    "final_data_100_y = final_data_100.loc[:,['ret','ret1','gz1','gz2']]"
   ]
  },
  {
   "cell_type": "markdown",
   "metadata": {},
   "source": [
    "## save my data"
   ]
  },
  {
   "cell_type": "code",
   "execution_count": 22,
   "metadata": {
    "ExecuteTime": {
     "end_time": "2018-09-23T02:29:11.936272Z",
     "start_time": "2018-09-23T02:29:11.767815Z"
    }
   },
   "outputs": [],
   "source": [
    "file = open(Path + '\\\\data\\\\mcs_demo_x.pkl', 'wb')\n",
    "pickle.dump(final_data_100_x1, file)\n",
    "file.close()\n",
    "\n",
    "file = open(Path + '\\\\data\\\\mcs_demo_y.pkl', 'wb')\n",
    "pickle.dump(final_data_100_y, file)\n",
    "file.close()"
   ]
  }
 ],
 "metadata": {
  "kernelspec": {
   "display_name": "Python 3",
   "language": "python",
   "name": "python3"
  },
  "language_info": {
   "codemirror_mode": {
    "name": "ipython",
    "version": 3
   },
   "file_extension": ".py",
   "mimetype": "text/x-python",
   "name": "python",
   "nbconvert_exporter": "python",
   "pygments_lexer": "ipython3",
   "version": "3.6.6"
  },
  "latex_envs": {
   "LaTeX_envs_menu_present": true,
   "autoclose": false,
   "autocomplete": true,
   "bibliofile": "biblio.bib",
   "cite_by": "apalike",
   "current_citInitial": 1,
   "eqLabelWithNumbers": true,
   "eqNumInitial": 1,
   "hotkeys": {
    "equation": "Ctrl-E",
    "itemize": "Ctrl-I"
   },
   "labels_anchors": false,
   "latex_user_defs": false,
   "report_style_numbering": false,
   "user_envs_cfg": false
  },
  "toc": {
   "base_numbering": 1,
   "nav_menu": {},
   "number_sections": true,
   "sideBar": true,
   "skip_h1_title": false,
   "title_cell": "Table of Contents",
   "title_sidebar": "Contents",
   "toc_cell": false,
   "toc_position": {},
   "toc_section_display": true,
   "toc_window_display": false
  },
  "varInspector": {
   "cols": {
    "lenName": 16,
    "lenType": 16,
    "lenVar": 40
   },
   "kernels_config": {
    "python": {
     "delete_cmd_postfix": "",
     "delete_cmd_prefix": "del ",
     "library": "var_list.py",
     "varRefreshCmd": "print(var_dic_list())"
    },
    "r": {
     "delete_cmd_postfix": ") ",
     "delete_cmd_prefix": "rm(",
     "library": "var_list.r",
     "varRefreshCmd": "cat(var_dic_list()) "
    }
   },
   "position": {
    "height": "291.857px",
    "left": "727.143px",
    "right": "20px",
    "top": "120px",
    "width": "350px"
   },
   "types_to_exclude": [
    "module",
    "function",
    "builtin_function_or_method",
    "instance",
    "_Feature"
   ],
   "window_display": false
  }
 },
 "nbformat": 4,
 "nbformat_minor": 1
}
